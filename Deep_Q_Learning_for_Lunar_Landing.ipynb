{
  "cells": [
    {
      "cell_type": "markdown",
      "metadata": {
        "id": "LbZcI9ZXHl3a"
      },
      "source": [
        "# Deep Q-Learning for Lunar Landing"
      ]
    },
    {
      "cell_type": "markdown",
      "metadata": {
        "id": "E8yPRjteXgPb"
      },
      "source": [
        "## Part 0 - Installing the required packages and importing the libraries"
      ]
    },
    {
      "cell_type": "markdown",
      "metadata": {
        "id": "slEm5teGWjWU"
      },
      "source": [
        "### Installing Gymnasium"
      ]
    },
    {
      "cell_type": "code",
      "execution_count": 4,
      "metadata": {
        "id": "dbnq3XpoKa_7",
        "colab": {
          "base_uri": "https://localhost:8080/"
        },
        "outputId": "1fb1a8f6-cefc-4e68-d122-e5bae60b40d5"
      },
      "outputs": [
        {
          "output_type": "stream",
          "name": "stdout",
          "text": [
            "Requirement already satisfied: gymnasium in /usr/local/lib/python3.10/dist-packages (0.29.1)\n",
            "Requirement already satisfied: numpy>=1.21.0 in /usr/local/lib/python3.10/dist-packages (from gymnasium) (1.25.2)\n",
            "Requirement already satisfied: cloudpickle>=1.2.0 in /usr/local/lib/python3.10/dist-packages (from gymnasium) (2.2.1)\n",
            "Requirement already satisfied: typing-extensions>=4.3.0 in /usr/local/lib/python3.10/dist-packages (from gymnasium) (4.10.0)\n",
            "Requirement already satisfied: farama-notifications>=0.0.1 in /usr/local/lib/python3.10/dist-packages (from gymnasium) (0.0.4)\n",
            "Requirement already satisfied: gymnasium[accept-rom-license,atari] in /usr/local/lib/python3.10/dist-packages (0.29.1)\n",
            "Requirement already satisfied: numpy>=1.21.0 in /usr/local/lib/python3.10/dist-packages (from gymnasium[accept-rom-license,atari]) (1.25.2)\n",
            "Requirement already satisfied: cloudpickle>=1.2.0 in /usr/local/lib/python3.10/dist-packages (from gymnasium[accept-rom-license,atari]) (2.2.1)\n",
            "Requirement already satisfied: typing-extensions>=4.3.0 in /usr/local/lib/python3.10/dist-packages (from gymnasium[accept-rom-license,atari]) (4.10.0)\n",
            "Requirement already satisfied: farama-notifications>=0.0.1 in /usr/local/lib/python3.10/dist-packages (from gymnasium[accept-rom-license,atari]) (0.0.4)\n",
            "Requirement already satisfied: shimmy[atari]<1.0,>=0.1.0 in /usr/local/lib/python3.10/dist-packages (from gymnasium[accept-rom-license,atari]) (0.2.1)\n",
            "Requirement already satisfied: autorom[accept-rom-license]~=0.4.2 in /usr/local/lib/python3.10/dist-packages (from gymnasium[accept-rom-license,atari]) (0.4.2)\n",
            "Requirement already satisfied: click in /usr/local/lib/python3.10/dist-packages (from autorom[accept-rom-license]~=0.4.2->gymnasium[accept-rom-license,atari]) (8.1.7)\n",
            "Requirement already satisfied: requests in /usr/local/lib/python3.10/dist-packages (from autorom[accept-rom-license]~=0.4.2->gymnasium[accept-rom-license,atari]) (2.31.0)\n",
            "Requirement already satisfied: tqdm in /usr/local/lib/python3.10/dist-packages (from autorom[accept-rom-license]~=0.4.2->gymnasium[accept-rom-license,atari]) (4.66.2)\n",
            "Requirement already satisfied: AutoROM.accept-rom-license in /usr/local/lib/python3.10/dist-packages (from autorom[accept-rom-license]~=0.4.2->gymnasium[accept-rom-license,atari]) (0.6.1)\n",
            "Requirement already satisfied: ale-py~=0.8.1 in /usr/local/lib/python3.10/dist-packages (from shimmy[atari]<1.0,>=0.1.0->gymnasium[accept-rom-license,atari]) (0.8.1)\n",
            "Requirement already satisfied: importlib-resources in /usr/local/lib/python3.10/dist-packages (from ale-py~=0.8.1->shimmy[atari]<1.0,>=0.1.0->gymnasium[accept-rom-license,atari]) (6.1.3)\n",
            "Requirement already satisfied: charset-normalizer<4,>=2 in /usr/local/lib/python3.10/dist-packages (from requests->autorom[accept-rom-license]~=0.4.2->gymnasium[accept-rom-license,atari]) (3.3.2)\n",
            "Requirement already satisfied: idna<4,>=2.5 in /usr/local/lib/python3.10/dist-packages (from requests->autorom[accept-rom-license]~=0.4.2->gymnasium[accept-rom-license,atari]) (3.6)\n",
            "Requirement already satisfied: urllib3<3,>=1.21.1 in /usr/local/lib/python3.10/dist-packages (from requests->autorom[accept-rom-license]~=0.4.2->gymnasium[accept-rom-license,atari]) (2.0.7)\n",
            "Requirement already satisfied: certifi>=2017.4.17 in /usr/local/lib/python3.10/dist-packages (from requests->autorom[accept-rom-license]~=0.4.2->gymnasium[accept-rom-license,atari]) (2024.2.2)\n",
            "Reading package lists... Done\n",
            "Building dependency tree... Done\n",
            "Reading state information... Done\n",
            "swig is already the newest version (4.0.2-1ubuntu1).\n",
            "0 upgraded, 0 newly installed, 0 to remove and 38 not upgraded.\n",
            "Requirement already satisfied: gymnasium[box2d] in /usr/local/lib/python3.10/dist-packages (0.29.1)\n",
            "Requirement already satisfied: numpy>=1.21.0 in /usr/local/lib/python3.10/dist-packages (from gymnasium[box2d]) (1.25.2)\n",
            "Requirement already satisfied: cloudpickle>=1.2.0 in /usr/local/lib/python3.10/dist-packages (from gymnasium[box2d]) (2.2.1)\n",
            "Requirement already satisfied: typing-extensions>=4.3.0 in /usr/local/lib/python3.10/dist-packages (from gymnasium[box2d]) (4.10.0)\n",
            "Requirement already satisfied: farama-notifications>=0.0.1 in /usr/local/lib/python3.10/dist-packages (from gymnasium[box2d]) (0.0.4)\n",
            "Collecting box2d-py==2.3.5 (from gymnasium[box2d])\n",
            "  Using cached box2d-py-2.3.5.tar.gz (374 kB)\n",
            "  Preparing metadata (setup.py) ... \u001b[?25l\u001b[?25hdone\n",
            "Requirement already satisfied: pygame>=2.1.3 in /usr/local/lib/python3.10/dist-packages (from gymnasium[box2d]) (2.5.2)\n",
            "Collecting swig==4.* (from gymnasium[box2d])\n",
            "  Using cached swig-4.2.1-py2.py3-none-manylinux_2_5_x86_64.manylinux1_x86_64.whl (1.9 MB)\n",
            "Building wheels for collected packages: box2d-py\n",
            "  Building wheel for box2d-py (setup.py) ... \u001b[?25l\u001b[?25hdone\n",
            "  Created wheel for box2d-py: filename=box2d_py-2.3.5-cp310-cp310-linux_x86_64.whl size=2349113 sha256=b412ced25538c2b0412be618a8a4f512b7b4381f4b9b7a8ed180c19901efb8cb\n",
            "  Stored in directory: /root/.cache/pip/wheels/db/8f/6a/eaaadf056fba10a98d986f6dce954e6201ba3126926fc5ad9e\n",
            "Successfully built box2d-py\n",
            "Installing collected packages: swig, box2d-py\n",
            "Successfully installed box2d-py-2.3.5 swig-4.2.1\n"
          ]
        }
      ],
      "source": [
        "!pip install gymnasium\n",
        "!pip install \"gymnasium[atari, accept-rom-license]\"\n",
        "!apt-get install -y swig\n",
        "!pip install gymnasium[box2d]"
      ]
    },
    {
      "cell_type": "markdown",
      "metadata": {
        "id": "brqiMN3UW9T9"
      },
      "source": [
        "### Importing the libraries"
      ]
    },
    {
      "cell_type": "code",
      "source": [
        "def seedEverthing(seed = 42):\n",
        "    '''\n",
        "    This function will seed everything.\n",
        "    '''\n",
        "    #NOTE: This function is not my original creation.\n",
        "    random.seed(seed)\n",
        "    np.random.seed(seed)\n",
        "    os.environ['PYTHONHASHSEED'] = str(seed)\n",
        "    torch.manual_seed(seed)\n",
        "    torch.cuda.manual_seed_all(seed)\n",
        "    torch.backends.cudnn.deterministic = True\n",
        "seedEverthing(seed = 42)"
      ],
      "metadata": {
        "id": "jRtzaB_lPdWt"
      },
      "execution_count": 5,
      "outputs": []
    },
    {
      "cell_type": "code",
      "execution_count": 6,
      "metadata": {
        "id": "mZaKXP_aMl9O"
      },
      "outputs": [],
      "source": [
        "import os\n",
        "import random\n",
        "import numpy as np\n",
        "import torch\n",
        "import torch.nn as nn\n",
        "import torch.optim as optim\n",
        "import torch.nn.functional as F\n",
        "import torch.autograd as autograd\n",
        "from torch.autograd import Variable\n",
        "from collections import deque, namedtuple"
      ]
    },
    {
      "cell_type": "markdown",
      "metadata": {
        "id": "EzlDKXvkXzGI"
      },
      "source": [
        "## Part 1 - Building the AI"
      ]
    },
    {
      "cell_type": "markdown",
      "metadata": {
        "id": "UtG6Zc83YYy3"
      },
      "source": [
        "### Creating the architecture of the Neural Network"
      ]
    },
    {
      "cell_type": "code",
      "source": [
        "class Network(nn.Module):\n",
        "\n",
        "  def __init__(self, state_size, action_size):\n",
        "      super(Network, self).__init__()\n",
        "      self.fc1 = nn.Linear(state_size, 64)\n",
        "      self.fc2 = nn.Linear(64, 64)\n",
        "      self.fc3 = nn.Linear(64, action_size)\n",
        "\n",
        "  def forward(self, state):\n",
        "      x = self.fc1(state)\n",
        "      x = F.relu(x)\n",
        "      x = self.fc2(x)\n",
        "      x = F.relu(x)\n",
        "      x = self.fc3(x)\n",
        "      return x"
      ],
      "metadata": {
        "id": "DHrzEBY_VZMT"
      },
      "execution_count": 7,
      "outputs": []
    },
    {
      "cell_type": "markdown",
      "metadata": {
        "id": "UxVrBnFWZKb1"
      },
      "source": [
        "## Part 2 - Training the AI"
      ]
    },
    {
      "cell_type": "markdown",
      "metadata": {
        "id": "T364fz9qZb2j"
      },
      "source": [
        "### Setting up the environment"
      ]
    },
    {
      "cell_type": "code",
      "source": [
        "import gymnasium as gym\n",
        "env = gym.make(\"LunarLander-v2\")\n",
        "state_shape = env.observation_space.shape\n",
        "state_size = env.observation_space.shape[0]\n",
        "number_actions = env.action_space.n\n",
        "print('State shape: ', state_shape)\n",
        "print('State size: ', state_size)\n",
        "print('Number of actions: ', number_actions)"
      ],
      "metadata": {
        "colab": {
          "base_uri": "https://localhost:8080/"
        },
        "id": "fQCLyPxXbelc",
        "outputId": "986febb2-85b7-4e03-ec46-28c188d1035f"
      },
      "execution_count": 8,
      "outputs": [
        {
          "output_type": "stream",
          "name": "stdout",
          "text": [
            "State shape:  (8,)\n",
            "State size:  8\n",
            "Number of actions:  4\n"
          ]
        }
      ]
    },
    {
      "cell_type": "markdown",
      "metadata": {
        "id": "c_dZmOIvZgj-"
      },
      "source": [
        "### Initializing the hyperparameters"
      ]
    },
    {
      "cell_type": "code",
      "source": [
        "learning_rate = 2e-4 #5e-4\n",
        "minibatch_size = 100\n",
        "discount_factor = 0.99\n",
        "replay_buffer_size = int(1e5) #1e5\n",
        "interpolation_parameter = 0.001"
      ],
      "metadata": {
        "colab": {
          "base_uri": "https://localhost:8080/"
        },
        "id": "zTQnD7XRbhhs",
        "outputId": "10bbc2e7-4558-4348-ddff-c6c31fb0a24f"
      },
      "execution_count": 26,
      "outputs": [
        {
          "output_type": "stream",
          "name": "stderr",
          "text": [
            "/usr/local/lib/python3.10/dist-packages/ipykernel/ipkernel.py:283: DeprecationWarning: `should_run_async` will not call `transform_cell` automatically in the future. Please pass the result to `transformed_cell` argument and any exception that happen during thetransform in `preprocessing_exc_tuple` in IPython 7.17 and above.\n",
            "  and should_run_async(code)\n"
          ]
        }
      ]
    },
    {
      "cell_type": "markdown",
      "metadata": {
        "id": "8hD_Vs-bYnip"
      },
      "source": [
        "### Implementing Experience Replay"
      ]
    },
    {
      "cell_type": "code",
      "source": [
        "class ReplayMemory(object):\n",
        "\n",
        "  def __init__(self, capacity):\n",
        "    self.device = torch.device('cuda:0' if torch.cuda.is_available() else 'cpu')\n",
        "    self.capacity = capacity\n",
        "    self.memory = []\n",
        "\n",
        "  def push(self, event):\n",
        "    self.memory.append(event)\n",
        "    if len(self.memory) > self.capacity:\n",
        "      del self.memory[0]\n",
        "\n",
        "  def sample(self, batch_size):\n",
        "    experiences = random.sample(self.memory, batch_size)\n",
        "    states = torch.from_numpy(np.vstack([x[0] for x in experiences if x is not None])).float().to(self.device)\n",
        "    actions = torch.from_numpy(np.vstack([x[1] for x in experiences if x is not None])).long().to(self.device)\n",
        "    rewards = torch.from_numpy(np.vstack([x[2] for x in experiences if x is not None])).float().to(self.device)\n",
        "    next_states = torch.from_numpy(np.vstack([x[3] for x in experiences if x is not None])).float().to(self.device)\n",
        "    dones = torch.from_numpy(np.vstack([x[4] for x in experiences if x is not None]).astype(np.uint8)).float().to(self.device)\n",
        "    return states, next_states, actions, rewards, dones"
      ],
      "metadata": {
        "id": "DGa2cMB8dL9y"
      },
      "execution_count": 27,
      "outputs": []
    },
    {
      "cell_type": "markdown",
      "metadata": {
        "id": "JmEkbFbUY6Jt"
      },
      "source": [
        "### Implementing the DQN class"
      ]
    },
    {
      "cell_type": "code",
      "source": [
        "class Agent():\n",
        "\n",
        "  def __init__(self, state_size, action_size):\n",
        "    self.device = torch.device('cuda:0' if torch.cuda.is_available() else 'cpu')\n",
        "    self.state_size = state_size\n",
        "    self.action_size = action_size\n",
        "    self.local_qnetwork = Network(self.state_size, self.action_size).to(self.device)  #used to select the optimal action\n",
        "    self.target_qnetwork = Network(self.state_size, self.action_size).to(self.device) #used to calculate the target q-values\n",
        "    self.optimizer = optim.Adam(self.local_qnetwork.parameters(), lr = learning_rate)\n",
        "    self.memory = ReplayMemory(replay_buffer_size)\n",
        "    self.t_step = 0\n",
        "\n",
        "  def step(self, state, action, reward, next_state, done):\n",
        "    self.memory.push((state, action, reward, next_state, done))\n",
        "    self.t_step = (self.t_step + 1) % 4\n",
        "    if self.t_step == 0:\n",
        "      if len(self.memory.memory) > minibatch_size:\n",
        "        experiences = self.memory.sample(minibatch_size)\n",
        "        self.learn(experiences, discount_factor)\n",
        "\n",
        "  def act(self, state, epsilon = 0.):\n",
        "    state = torch.from_numpy(state).float().unsqueeze(0).to(self.device)\n",
        "    self.local_qnetwork.eval()\n",
        "    with torch.no_grad():\n",
        "      action_values = self.local_qnetwork(state)\n",
        "    self.local_qnetwork.train()\n",
        "    if random.random() > epsilon:\n",
        "      return np.argmax(action_values.cpu().data.numpy())\n",
        "    else:\n",
        "      return random.choice(np.arange(self.action_size))\n",
        "\n",
        "  def learn(self, experiences, discount_factor):\n",
        "    states, next_states, actions, rewards, dones = experiences\n",
        "    next_q_targets = self.target_qnetwork(next_states).detach().max(1)[0].unsqueeze(1)\n",
        "    q_targets = rewards + (discount_factor * next_q_targets * (1-dones))\n",
        "    q_expected = self.local_qnetwork(states).gather(1, actions)\n",
        "    loss = F.mse_loss(q_targets, q_expected)\n",
        "    self.optimizer.zero_grad()\n",
        "    loss.backward()\n",
        "    self.optimizer.step()\n",
        "    self.soft_update(self.local_qnetwork, self.target_qnetwork, interpolation_parameter)\n",
        "\n",
        "  def soft_update(self, local_model, target_model, interpolation_parameter):\n",
        "    for target_param, local_param in zip(target_model.parameters(), local_model.parameters()):\n",
        "      target_param.data.copy_(interpolation_parameter * local_param.data + (1.0 - interpolation_parameter) * target_param.data) #to prevent abrupt changes that can disturb the training\n"
      ],
      "metadata": {
        "id": "bPSJUYkJ81Q6"
      },
      "execution_count": 28,
      "outputs": []
    },
    {
      "cell_type": "markdown",
      "metadata": {
        "id": "o1tZElccZmf6"
      },
      "source": [
        "### Initializing the DQN agent"
      ]
    },
    {
      "cell_type": "code",
      "source": [
        "agent = Agent(state_size, number_actions)"
      ],
      "metadata": {
        "id": "kT-YUiiFVosZ"
      },
      "execution_count": 29,
      "outputs": []
    },
    {
      "cell_type": "markdown",
      "metadata": {
        "id": "E8v0PtUfaVQp"
      },
      "source": [
        "### Training the DQN agent"
      ]
    },
    {
      "cell_type": "code",
      "source": [
        "number_episodes = 2000 #max number of episodes we want to train the agent on\n",
        "maximum_number_timesteps_per_episode = 1000 #we do not want the agent to be stuck\n",
        "epsilon_starting_value = 1.0\n",
        "epsilon_ending_value = 0.01\n",
        "epsilon_decay_value = 0.995\n",
        "epsilon = epsilon_starting_value\n",
        "scores_on_100_episodes = deque(maxlen = 100)\n",
        "\n",
        "for episode in range(1, number_episodes+1):\n",
        "  state, _ = env.reset()\n",
        "  score = 0\n",
        "  for t in range(maximum_number_timesteps_per_episode):\n",
        "    action = agent.act(state, epsilon)\n",
        "    next_state, reward, done, _, _ = env.step(action)\n",
        "    agent.step(state, action, reward, next_state, done)\n",
        "    state = next_state\n",
        "    score += reward\n",
        "    if done:\n",
        "      break\n",
        "  scores_on_100_episodes.append(score)\n",
        "  epsilon = max(epsilon_ending_value, epsilon * epsilon_decay_value)\n",
        "  print('\\rEpisode {}\\tAverage Score: {:.2f}'.format(episode, np.mean(scores_on_100_episodes)), end = \"\")\n",
        "  if episode%100 == 0:\n",
        "    print('\\rEpisode {}\\tAverage Score: {:.2f}'.format(episode, np.mean(scores_on_100_episodes)))\n",
        "  if np.mean(scores_on_100_episodes)>=200.0:\n",
        "    print('\\nEnvironment solved in {:d} episodes!\\tAverage Score: {:.2f}'.format(episode - 100, np.mean(scores_on_100_episodes)))\n",
        "    torch.save(agent.local_qnetwork.state_dict(), 'checkpoint.pth')\n",
        "    break"
      ],
      "metadata": {
        "colab": {
          "base_uri": "https://localhost:8080/"
        },
        "id": "iWVWo8SLWKDh",
        "outputId": "6088988f-6fdb-43df-c266-40ccdfa1eeed"
      },
      "execution_count": 30,
      "outputs": [
        {
          "output_type": "stream",
          "name": "stdout",
          "text": [
            "Episode 100\tAverage Score: -181.09\n",
            "Episode 200\tAverage Score: -123.94\n",
            "Episode 300\tAverage Score: -54.81\n",
            "Episode 400\tAverage Score: 15.87\n",
            "Episode 500\tAverage Score: 134.69\n",
            "Episode 600\tAverage Score: 195.33\n",
            "Episode 625\tAverage Score: 200.67\n",
            "Environment solved in 525 episodes!\tAverage Score: 200.67\n"
          ]
        }
      ]
    },
    {
      "cell_type": "markdown",
      "metadata": {
        "id": "O8CNwdOTcCoP"
      },
      "source": [
        "## Part 3 - Visualizing the results"
      ]
    },
    {
      "cell_type": "code",
      "execution_count": 31,
      "metadata": {
        "id": "cb9nVvU2Okhk",
        "colab": {
          "base_uri": "https://localhost:8080/",
          "height": 459
        },
        "outputId": "cd7ba963-0732-42b5-8d3f-d5a3018ca11f"
      },
      "outputs": [
        {
          "output_type": "stream",
          "name": "stderr",
          "text": [
            "WARNING:imageio_ffmpeg:IMAGEIO FFMPEG_WRITER WARNING: input image is not divisible by macro_block_size=16, resizing from (600, 400) to (608, 400) to ensure video compatibility with most codecs and players. To prevent resizing, make your input image divisible by the macro_block_size or set the macro_block_size to 1 (risking incompatibility).\n"
          ]
        },
        {
          "output_type": "display_data",
          "data": {
            "text/plain": [
              "<IPython.core.display.HTML object>"
            ],
            "text/html": [
              "<video alt=\"test\" autoplay\n",
              "                loop controls style=\"height: 400px;\">\n",
              "                <source src=\"data:video/mp4;base64,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\" type=\"video/mp4\" />\n",
              "             </video>"
            ]
          },
          "metadata": {}
        }
      ],
      "source": [
        "import glob\n",
        "import io\n",
        "import base64\n",
        "import imageio\n",
        "from IPython.display import HTML, display\n",
        "from gym.wrappers.monitoring.video_recorder import VideoRecorder\n",
        "\n",
        "def show_video_of_model(agent, env_name):\n",
        "    env = gym.make(env_name, render_mode='rgb_array')\n",
        "    state, _ = env.reset()\n",
        "    done = False\n",
        "    frames = []\n",
        "    while not done:\n",
        "        frame = env.render()\n",
        "        frames.append(frame)\n",
        "        action = agent.act(state)\n",
        "        state, reward, done, _, _ = env.step(action.item())\n",
        "    env.close()\n",
        "    imageio.mimsave('video.mp4', frames, fps=30)\n",
        "\n",
        "show_video_of_model(agent, 'LunarLander-v2')\n",
        "\n",
        "def show_video():\n",
        "    mp4list = glob.glob('*.mp4')\n",
        "    if len(mp4list) > 0:\n",
        "        mp4 = mp4list[0]\n",
        "        video = io.open(mp4, 'r+b').read()\n",
        "        encoded = base64.b64encode(video)\n",
        "        display(HTML(data='''<video alt=\"test\" autoplay\n",
        "                loop controls style=\"height: 400px;\">\n",
        "                <source src=\"data:video/mp4;base64,{0}\" type=\"video/mp4\" />\n",
        "             </video>'''.format(encoded.decode('ascii'))))\n",
        "    else:\n",
        "        print(\"Could not find video\")\n",
        "\n",
        "show_video()"
      ]
    },
    {
      "cell_type": "code",
      "source": [],
      "metadata": {
        "id": "Jxn6ZDJee2-4"
      },
      "execution_count": 14,
      "outputs": []
    }
  ],
  "metadata": {
    "colab": {
      "provenance": []
    },
    "kernelspec": {
      "display_name": "Python 3",
      "name": "python3"
    },
    "language_info": {
      "name": "python"
    }
  },
  "nbformat": 4,
  "nbformat_minor": 0
}